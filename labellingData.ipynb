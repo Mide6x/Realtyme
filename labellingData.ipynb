{
 "cells": [
  {
   "cell_type": "code",
   "execution_count": 7,
   "metadata": {},
   "outputs": [],
   "source": [
    "import pandas as pd\n",
    "import seaborn as sns\n",
    "import matplotlib.pyplot as plt\n",
    "import nltk\n",
    "import ssl\n",
    "from nltk.tokenize import word_tokenize\n",
    "from nltk.corpus import stopwords\n",
    "from nltk.stem import WordNetLemmatizer"
   ]
  },
  {
   "cell_type": "code",
   "execution_count": 8,
   "metadata": {},
   "outputs": [
    {
     "data": {
      "text/html": [
       "<div>\n",
       "<style scoped>\n",
       "    .dataframe tbody tr th:only-of-type {\n",
       "        vertical-align: middle;\n",
       "    }\n",
       "\n",
       "    .dataframe tbody tr th {\n",
       "        vertical-align: top;\n",
       "    }\n",
       "\n",
       "    .dataframe thead th {\n",
       "        text-align: right;\n",
       "    }\n",
       "</style>\n",
       "<table border=\"1\" class=\"dataframe\">\n",
       "  <thead>\n",
       "    <tr style=\"text-align: right;\">\n",
       "      <th></th>\n",
       "      <th>Unnamed: 0</th>\n",
       "      <th>title</th>\n",
       "      <th>reviews</th>\n",
       "      <th>date</th>\n",
       "      <th>place</th>\n",
       "      <th>Unnamed: 5</th>\n",
       "      <th>Unnamed: 6</th>\n",
       "    </tr>\n",
       "  </thead>\n",
       "  <tbody>\n",
       "    <tr>\n",
       "      <th>0</th>\n",
       "      <td>0</td>\n",
       "      <td>\"no boarding drinks provided\"</td>\n",
       "      <td>First time flying with British Airways busines...</td>\n",
       "      <td>25th June 2023</td>\n",
       "      <td>United Kingdom</td>\n",
       "      <td>NaN</td>\n",
       "      <td>NaN</td>\n",
       "    </tr>\n",
       "    <tr>\n",
       "      <th>1</th>\n",
       "      <td>1</td>\n",
       "      <td>\"WiFi didn't work\"</td>\n",
       "      <td>Not You can buy sandwiches and crisps but don'...</td>\n",
       "      <td>24th June 2023</td>\n",
       "      <td>United Kingdom</td>\n",
       "      <td>NaN</td>\n",
       "      <td>NaN</td>\n",
       "    </tr>\n",
       "    <tr>\n",
       "      <th>2</th>\n",
       "      <td>2</td>\n",
       "      <td>\"stick with economy\"</td>\n",
       "      <td>This is a two-for-one review covering economy ...</td>\n",
       "      <td>24th June 2023</td>\n",
       "      <td>United Kingdom</td>\n",
       "      <td>NaN</td>\n",
       "      <td>NaN</td>\n",
       "    </tr>\n",
       "    <tr>\n",
       "      <th>3</th>\n",
       "      <td>3</td>\n",
       "      <td>\"Communication is terrible\"</td>\n",
       "      <td>Absolutely horrible airline. Communication is ...</td>\n",
       "      <td>23rd June 2023</td>\n",
       "      <td>United States</td>\n",
       "      <td>NaN</td>\n",
       "      <td>NaN</td>\n",
       "    </tr>\n",
       "    <tr>\n",
       "      <th>4</th>\n",
       "      <td>4</td>\n",
       "      <td>\"delays and cancellations\"</td>\n",
       "      <td>Having experienced delays and cancellations de...</td>\n",
       "      <td>22nd June 2023</td>\n",
       "      <td>United States</td>\n",
       "      <td>NaN</td>\n",
       "      <td>NaN</td>\n",
       "    </tr>\n",
       "  </tbody>\n",
       "</table>\n",
       "</div>"
      ],
      "text/plain": [
       "   Unnamed: 0                          title  \\\n",
       "0           0  \"no boarding drinks provided\"   \n",
       "1           1             \"WiFi didn't work\"   \n",
       "2           2           \"stick with economy\"   \n",
       "3           3    \"Communication is terrible\"   \n",
       "4           4     \"delays and cancellations\"   \n",
       "\n",
       "                                             reviews            date  \\\n",
       "0  First time flying with British Airways busines...  25th June 2023   \n",
       "1  Not You can buy sandwiches and crisps but don'...  24th June 2023   \n",
       "2  This is a two-for-one review covering economy ...  24th June 2023   \n",
       "3  Absolutely horrible airline. Communication is ...  23rd June 2023   \n",
       "4  Having experienced delays and cancellations de...  22nd June 2023   \n",
       "\n",
       "            place  Unnamed: 5  Unnamed: 6  \n",
       "0  United Kingdom         NaN         NaN  \n",
       "1  United Kingdom         NaN         NaN  \n",
       "2  United Kingdom         NaN         NaN  \n",
       "3   United States         NaN         NaN  \n",
       "4   United States         NaN         NaN  "
      ]
     },
     "execution_count": 8,
     "metadata": {},
     "output_type": "execute_result"
    }
   ],
   "source": [
    "df = pd.read_csv('reviewslabelling.csv')\n",
    "df.head(5)"
   ]
  },
  {
   "cell_type": "code",
   "execution_count": 9,
   "metadata": {},
   "outputs": [
    {
     "name": "stdout",
     "output_type": "stream",
     "text": [
      "<class 'pandas.core.frame.DataFrame'>\n",
      "RangeIndex: 2930 entries, 0 to 2929\n",
      "Data columns (total 7 columns):\n",
      " #   Column      Non-Null Count  Dtype  \n",
      "---  ------      --------------  -----  \n",
      " 0   Unnamed: 0  2930 non-null   int64  \n",
      " 1   title       2930 non-null   object \n",
      " 2   reviews     2930 non-null   object \n",
      " 3   date        2930 non-null   object \n",
      " 4   place       2930 non-null   object \n",
      " 5   Unnamed: 5  0 non-null      float64\n",
      " 6   Unnamed: 6  0 non-null      float64\n",
      "dtypes: float64(2), int64(1), object(4)\n",
      "memory usage: 160.4+ KB\n",
      "None\n",
      "        Unnamed: 0  Unnamed: 5  Unnamed: 6\n",
      "count  2930.000000         0.0         0.0\n",
      "mean      4.500000         NaN         NaN\n",
      "std       2.872772         NaN         NaN\n",
      "min       0.000000         NaN         NaN\n",
      "25%       2.000000         NaN         NaN\n",
      "50%       4.500000         NaN         NaN\n",
      "75%       7.000000         NaN         NaN\n",
      "max       9.000000         NaN         NaN\n",
      "Unnamed: 0       0\n",
      "title            0\n",
      "reviews          0\n",
      "date             0\n",
      "place            0\n",
      "Unnamed: 5    2930\n",
      "Unnamed: 6    2930\n",
      "dtype: int64\n"
     ]
    }
   ],
   "source": [
    "print(df.info())\n",
    "print(df.describe())\n",
    "print(df.isnull().sum())"
   ]
  },
  {
   "cell_type": "code",
   "execution_count": 11,
   "metadata": {},
   "outputs": [
    {
     "name": "stderr",
     "output_type": "stream",
     "text": [
      "[nltk_data] Downloading package punkt to\n",
      "[nltk_data]     /Users/nolimitmide/nltk_data...\n",
      "[nltk_data]   Package punkt is already up-to-date!\n",
      "[nltk_data] Downloading package stopwords to\n",
      "[nltk_data]     /Users/nolimitmide/nltk_data...\n",
      "[nltk_data]   Package stopwords is already up-to-date!\n",
      "[nltk_data] Downloading package wordnet to\n",
      "[nltk_data]     /Users/nolimitmide/nltk_data...\n",
      "[nltk_data]   Package wordnet is already up-to-date!\n"
     ]
    },
    {
     "data": {
      "text/plain": [
       "True"
      ]
     },
     "execution_count": 11,
     "metadata": {},
     "output_type": "execute_result"
    }
   ],
   "source": [
    "ssl._create_default_https_context = ssl._create_unverified_context\n",
    "\n",
    "nltk.download('punkt')\n",
    "nltk.download('stopwords')\n",
    "nltk.download('wordnet') "
   ]
  },
  {
   "cell_type": "code",
   "execution_count": 24,
   "metadata": {},
   "outputs": [
    {
     "name": "stdout",
     "output_type": "stream",
     "text": [
      "                           title       preprocessed_title\n",
      "0  \"no boarding drinks provided\"  boarding drink provided\n",
      "1             \"WiFi didn't work\"                wifi work\n",
      "2           \"stick with economy\"            stick economy\n",
      "3    \"Communication is terrible\"   communication terrible\n",
      "4     \"delays and cancellations\"       delay cancellation\n"
     ]
    }
   ],
   "source": [
    "# Function for text preprocessing with lemmatization\n",
    "def preprocess_text_lemmatization(text):\n",
    "    tokens = word_tokenize(text)\n",
    "    tokens = [word.lower() for word in tokens if word.isalpha()]\n",
    "    \n",
    "    lemmatizer = WordNetLemmatizer()\n",
    "    tokens = [lemmatizer.lemmatize(word) for word in tokens]\n",
    "    \n",
    "    stop_words = set(stopwords.words('english'))\n",
    "    tokens = [word for word in tokens if word not in stop_words]\n",
    "    \n",
    "    preprocessed_text = ' '.join(tokens)\n",
    "    return preprocessed_text\n",
    "\n",
    "\n",
    "df['preprocessed_title'] = df['title'].apply(preprocess_text_lemmatization)\n",
    "\n",
    "# Display the first few rows of the DataFrame with the lemmatized preprocessed text\n",
    "print(df[['title', 'preprocessed_title']].head())\n"
   ]
  },
  {
   "cell_type": "code",
   "execution_count": 19,
   "metadata": {},
   "outputs": [],
   "source": [
    "from textblob import TextBlob"
   ]
  },
  {
   "cell_type": "code",
   "execution_count": 20,
   "metadata": {},
   "outputs": [],
   "source": [
    "from vaderSentiment.vaderSentiment import SentimentIntensityAnalyzer"
   ]
  },
  {
   "cell_type": "code",
   "execution_count": 26,
   "metadata": {},
   "outputs": [
    {
     "name": "stdout",
     "output_type": "stream",
     "text": [
      "        preprocessed_title ensemble_sentiment\n",
      "0  boarding drink provided            Neutral\n",
      "1                wifi work            Neutral\n",
      "2            stick economy            Neutral\n",
      "3   communication terrible           Negative\n",
      "4       delay cancellation           Negative\n"
     ]
    }
   ],
   "source": [
    "def get_sentiment_polarity_textblob(text):\n",
    "    analysis = TextBlob(text)\n",
    "    return analysis.sentiment.polarity\n",
    "\n",
    "def get_sentiment_polarity_vader(text):\n",
    "    analyzer = SentimentIntensityAnalyzer()\n",
    "    compound_score = analyzer.polarity_scores(text)['compound']\n",
    "    return compound_score\n",
    "\n",
    "def categorize_sentiment(polarity):\n",
    "    if polarity > 0:\n",
    "        return 'Positive'\n",
    "    elif polarity < 0:\n",
    "        return 'Negative'\n",
    "    else:\n",
    "        return 'Neutral'\n",
    "\n",
    "\n",
    "df['sentiment_polarity_textblob'] = df['preprocessed_title'].apply(get_sentiment_polarity_textblob)\n",
    "df['sentiment_polarity_vader'] = df['preprocessed_title'].apply(get_sentiment_polarity_vader)\n",
    "\n",
    "def voting_ensemble(textblob_score, vader_score):\n",
    "    sentiments = [\n",
    "        categorize_sentiment(textblob_score),\n",
    "        categorize_sentiment(vader_score),\n",
    "    ]\n",
    "    sentiment_votes = {'Positive': 0, 'Negative': 0, 'Neutral': 0}\n",
    "    for sentiment in sentiments:\n",
    "        sentiment_votes[sentiment] += 1\n",
    "    \n",
    "    return max(sentiment_votes, key=sentiment_votes.get)\n",
    "\n",
    "\n",
    "df['ensemble_sentiment'] = df.apply(lambda row: voting_ensemble(row['sentiment_polarity_textblob'], row['sentiment_polarity_vader']), axis=1)\n",
    "\n",
    "\n",
    "print(df[['preprocessed_title','ensemble_sentiment']].head())\n"
   ]
  },
  {
   "cell_type": "code",
   "execution_count": null,
   "metadata": {},
   "outputs": [],
   "source": []
  }
 ],
 "metadata": {
  "kernelspec": {
   "display_name": "Python 3",
   "language": "python",
   "name": "python3"
  },
  "language_info": {
   "codemirror_mode": {
    "name": "ipython",
    "version": 3
   },
   "file_extension": ".py",
   "mimetype": "text/x-python",
   "name": "python",
   "nbconvert_exporter": "python",
   "pygments_lexer": "ipython3",
   "version": "3.11.5"
  }
 },
 "nbformat": 4,
 "nbformat_minor": 2
}
